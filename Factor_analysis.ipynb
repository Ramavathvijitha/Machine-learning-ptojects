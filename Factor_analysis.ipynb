{
 "cells": [
  {
   "cell_type": "code",
   "execution_count": 6,
   "metadata": {
    "id": "3UKMoCsrT6HA"
   },
   "outputs": [],
   "source": [
    "import pandas as pd\n",
    "import numpy as np\n",
    "import scipy as spy\n",
    "import math\n",
    "import sklearn as skl\n",
    "from sklearn.decomposition import FactorAnalysis\n",
    "import matplotlib.pyplot as plt"
   ]
  },
  {
   "cell_type": "code",
   "execution_count": 7,
   "metadata": {
    "colab": {
     "base_uri": "https://localhost:8080/"
    },
    "id": "vT_iAeT5T6HE",
    "outputId": "b5a4aaae-73e9-4d74-f87c-9ade64ac323d"
   },
   "outputs": [
    {
     "name": "stdout",
     "output_type": "stream",
     "text": [
      "Collecting factor_analyzer\n",
      "  Using cached factor_analyzer-0.4.1.tar.gz (41 kB)\n",
      "  Installing build dependencies ... \u001b[?25ldone\n",
      "\u001b[?25h  Getting requirements to build wheel ... \u001b[?25ldone\n",
      "\u001b[?25h    Preparing wheel metadata ... \u001b[?25ldone\n",
      "\u001b[?25hRequirement already satisfied: scikit-learn in /opt/anaconda3/lib/python3.9/site-packages (from factor_analyzer) (1.0.2)\n",
      "Collecting pre-commit\n",
      "  Using cached pre_commit-2.20.0-py2.py3-none-any.whl (199 kB)\n",
      "Requirement already satisfied: numpy in /opt/anaconda3/lib/python3.9/site-packages (from factor_analyzer) (1.21.5)\n",
      "Requirement already satisfied: scipy in /opt/anaconda3/lib/python3.9/site-packages (from factor_analyzer) (1.7.3)\n",
      "Requirement already satisfied: pandas in /opt/anaconda3/lib/python3.9/site-packages (from factor_analyzer) (1.4.2)\n",
      "Requirement already satisfied: python-dateutil>=2.8.1 in /opt/anaconda3/lib/python3.9/site-packages (from pandas->factor_analyzer) (2.8.2)\n",
      "Requirement already satisfied: pytz>=2020.1 in /opt/anaconda3/lib/python3.9/site-packages (from pandas->factor_analyzer) (2021.3)\n",
      "Requirement already satisfied: six>=1.5 in /opt/anaconda3/lib/python3.9/site-packages (from python-dateutil>=2.8.1->pandas->factor_analyzer) (1.16.0)\n",
      "Collecting identify>=1.0.0\n",
      "  Downloading identify-2.5.5-py2.py3-none-any.whl (98 kB)\n",
      "\u001b[K     |████████████████████████████████| 98 kB 651 kB/s eta 0:00:01\n",
      "\u001b[?25hCollecting nodeenv>=0.11.1\n",
      "  Downloading nodeenv-1.7.0-py2.py3-none-any.whl (21 kB)\n",
      "Collecting cfgv>=2.0.0\n",
      "  Downloading cfgv-3.3.1-py2.py3-none-any.whl (7.3 kB)\n",
      "Collecting virtualenv>=20.0.8\n",
      "  Downloading virtualenv-20.16.5-py3-none-any.whl (8.8 MB)\n",
      "\u001b[K     |████████████████████████████████| 8.8 MB 60 kB/s eta 0:00:011\n",
      "\u001b[?25hRequirement already satisfied: pyyaml>=5.1 in /opt/anaconda3/lib/python3.9/site-packages (from pre-commit->factor_analyzer) (6.0)\n",
      "Requirement already satisfied: toml in /opt/anaconda3/lib/python3.9/site-packages (from pre-commit->factor_analyzer) (0.10.2)\n",
      "Requirement already satisfied: setuptools in /opt/anaconda3/lib/python3.9/site-packages (from nodeenv>=0.11.1->pre-commit->factor_analyzer) (61.2.0)\n",
      "Requirement already satisfied: filelock<4,>=3.4.1 in /opt/anaconda3/lib/python3.9/site-packages (from virtualenv>=20.0.8->pre-commit->factor_analyzer) (3.6.0)\n",
      "Collecting platformdirs<3,>=2.4\n",
      "  Downloading platformdirs-2.5.2-py3-none-any.whl (14 kB)\n",
      "Collecting distlib<1,>=0.3.5\n",
      "  Downloading distlib-0.3.6-py2.py3-none-any.whl (468 kB)\n",
      "\u001b[K     |████████████████████████████████| 468 kB 116 kB/s eta 0:00:01\n",
      "\u001b[?25hRequirement already satisfied: threadpoolctl>=2.0.0 in /opt/anaconda3/lib/python3.9/site-packages (from scikit-learn->factor_analyzer) (2.2.0)\n",
      "Requirement already satisfied: joblib>=0.11 in /opt/anaconda3/lib/python3.9/site-packages (from scikit-learn->factor_analyzer) (1.1.0)\n",
      "Building wheels for collected packages: factor-analyzer\n",
      "  Building wheel for factor-analyzer (PEP 517) ... \u001b[?25ldone\n",
      "\u001b[?25h  Created wheel for factor-analyzer: filename=factor_analyzer-0.4.1-py2.py3-none-any.whl size=42015 sha256=f0dda145e02d80845a45c1c193ed4a442f88c0b5b6c8ba3ed92d9b0f2017eb4c\n",
      "  Stored in directory: /Users/vijithanayak/Library/Caches/pip/wheels/6d/32/bd/460a71becd83f7d77152f437c2fd451f5c87bc19cfcdbfcd24\n",
      "Successfully built factor-analyzer\n",
      "Installing collected packages: platformdirs, distlib, virtualenv, nodeenv, identify, cfgv, pre-commit, factor-analyzer\n",
      "Successfully installed cfgv-3.3.1 distlib-0.3.6 factor-analyzer-0.4.1 identify-2.5.5 nodeenv-1.7.0 platformdirs-2.5.2 pre-commit-2.20.0 virtualenv-20.16.5\n",
      "Note: you may need to restart the kernel to use updated packages.\n"
     ]
    }
   ],
   "source": [
    "pip install factor_analyzer"
   ]
  },
  {
   "cell_type": "code",
   "execution_count": 13,
   "metadata": {
    "id": "vPRo4EDhT6HF"
   },
   "outputs": [],
   "source": [
    "from factor_analyzer import FactorAnalyzer"
   ]
  },
  {
   "cell_type": "code",
   "execution_count": 14,
   "metadata": {
    "id": "bSrG_r_-T6HG"
   },
   "outputs": [],
   "source": [
    "#data import\n",
    "df=pd.read_csv(\"/Users/vijithanayak/HRA/wfb.csv\")"
   ]
  },
  {
   "cell_type": "code",
   "execution_count": 57,
   "metadata": {
    "colab": {
     "base_uri": "https://localhost:8080/",
     "height": 300
    },
    "id": "VXQCZ-pOT6HH",
    "outputId": "9c5b5fa9-0e1e-4bd5-dd20-9ade62f9b242"
   },
   "outputs": [
    {
     "data": {
      "text/html": [
       "<div>\n",
       "<style scoped>\n",
       "    .dataframe tbody tr th:only-of-type {\n",
       "        vertical-align: middle;\n",
       "    }\n",
       "\n",
       "    .dataframe tbody tr th {\n",
       "        vertical-align: top;\n",
       "    }\n",
       "\n",
       "    .dataframe thead th {\n",
       "        text-align: right;\n",
       "    }\n",
       "</style>\n",
       "<table border=\"1\" class=\"dataframe\">\n",
       "  <thead>\n",
       "    <tr style=\"text-align: right;\">\n",
       "      <th></th>\n",
       "      <th>JS1</th>\n",
       "      <th>JS2</th>\n",
       "      <th>JS3</th>\n",
       "      <th>FS1</th>\n",
       "      <th>FS2</th>\n",
       "      <th>FS3</th>\n",
       "      <th>LS1</th>\n",
       "      <th>LS2</th>\n",
       "      <th>LS3</th>\n",
       "      <th>LS4</th>\n",
       "      <th>LS5</th>\n",
       "      <th>WFB1</th>\n",
       "      <th>WFB2</th>\n",
       "      <th>WFB3</th>\n",
       "      <th>WFB4</th>\n",
       "      <th>WFB5</th>\n",
       "    </tr>\n",
       "  </thead>\n",
       "  <tbody>\n",
       "    <tr>\n",
       "      <th>0</th>\n",
       "      <td>3.0</td>\n",
       "      <td>6.0</td>\n",
       "      <td>6.0</td>\n",
       "      <td>5.0</td>\n",
       "      <td>5.0</td>\n",
       "      <td>5.0</td>\n",
       "      <td>5.0</td>\n",
       "      <td>5.0</td>\n",
       "      <td>5.0</td>\n",
       "      <td>3.0</td>\n",
       "      <td>2.0</td>\n",
       "      <td>2</td>\n",
       "      <td>2.0</td>\n",
       "      <td>2</td>\n",
       "      <td>2</td>\n",
       "      <td>1.0</td>\n",
       "    </tr>\n",
       "    <tr>\n",
       "      <th>1</th>\n",
       "      <td>7.0</td>\n",
       "      <td>6.0</td>\n",
       "      <td>7.0</td>\n",
       "      <td>7.0</td>\n",
       "      <td>6.0</td>\n",
       "      <td>6.0</td>\n",
       "      <td>6.0</td>\n",
       "      <td>6.0</td>\n",
       "      <td>6.0</td>\n",
       "      <td>6.0</td>\n",
       "      <td>6.0</td>\n",
       "      <td>3</td>\n",
       "      <td>3.0</td>\n",
       "      <td>6</td>\n",
       "      <td>2</td>\n",
       "      <td>2.0</td>\n",
       "    </tr>\n",
       "    <tr>\n",
       "      <th>2</th>\n",
       "      <td>6.0</td>\n",
       "      <td>6.0</td>\n",
       "      <td>7.0</td>\n",
       "      <td>5.0</td>\n",
       "      <td>5.0</td>\n",
       "      <td>5.0</td>\n",
       "      <td>5.0</td>\n",
       "      <td>6.0</td>\n",
       "      <td>6.0</td>\n",
       "      <td>7.0</td>\n",
       "      <td>4.0</td>\n",
       "      <td>5</td>\n",
       "      <td>5.0</td>\n",
       "      <td>4</td>\n",
       "      <td>6</td>\n",
       "      <td>6.0</td>\n",
       "    </tr>\n",
       "    <tr>\n",
       "      <th>3</th>\n",
       "      <td>7.0</td>\n",
       "      <td>7.0</td>\n",
       "      <td>7.0</td>\n",
       "      <td>6.0</td>\n",
       "      <td>6.0</td>\n",
       "      <td>6.0</td>\n",
       "      <td>7.0</td>\n",
       "      <td>6.0</td>\n",
       "      <td>6.0</td>\n",
       "      <td>6.0</td>\n",
       "      <td>5.0</td>\n",
       "      <td>6</td>\n",
       "      <td>6.0</td>\n",
       "      <td>6</td>\n",
       "      <td>6</td>\n",
       "      <td>7.0</td>\n",
       "    </tr>\n",
       "    <tr>\n",
       "      <th>4</th>\n",
       "      <td>7.0</td>\n",
       "      <td>7.0</td>\n",
       "      <td>7.0</td>\n",
       "      <td>4.0</td>\n",
       "      <td>4.0</td>\n",
       "      <td>5.0</td>\n",
       "      <td>6.0</td>\n",
       "      <td>6.0</td>\n",
       "      <td>6.0</td>\n",
       "      <td>7.0</td>\n",
       "      <td>1.0</td>\n",
       "      <td>4</td>\n",
       "      <td>6.0</td>\n",
       "      <td>6</td>\n",
       "      <td>5</td>\n",
       "      <td>6.0</td>\n",
       "    </tr>\n",
       "    <tr>\n",
       "      <th>5</th>\n",
       "      <td>5.0</td>\n",
       "      <td>6.0</td>\n",
       "      <td>5.0</td>\n",
       "      <td>7.0</td>\n",
       "      <td>7.0</td>\n",
       "      <td>7.0</td>\n",
       "      <td>5.0</td>\n",
       "      <td>6.0</td>\n",
       "      <td>5.0</td>\n",
       "      <td>6.0</td>\n",
       "      <td>3.0</td>\n",
       "      <td>6</td>\n",
       "      <td>6.0</td>\n",
       "      <td>6</td>\n",
       "      <td>6</td>\n",
       "      <td>6.0</td>\n",
       "    </tr>\n",
       "  </tbody>\n",
       "</table>\n",
       "</div>"
      ],
      "text/plain": [
       "   JS1  JS2  JS3  FS1  FS2  FS3  LS1  LS2  LS3  LS4  LS5  WFB1  WFB2  WFB3  \\\n",
       "0  3.0  6.0  6.0  5.0  5.0  5.0  5.0  5.0  5.0  3.0  2.0     2   2.0     2   \n",
       "1  7.0  6.0  7.0  7.0  6.0  6.0  6.0  6.0  6.0  6.0  6.0     3   3.0     6   \n",
       "2  6.0  6.0  7.0  5.0  5.0  5.0  5.0  6.0  6.0  7.0  4.0     5   5.0     4   \n",
       "3  7.0  7.0  7.0  6.0  6.0  6.0  7.0  6.0  6.0  6.0  5.0     6   6.0     6   \n",
       "4  7.0  7.0  7.0  4.0  4.0  5.0  6.0  6.0  6.0  7.0  1.0     4   6.0     6   \n",
       "5  5.0  6.0  5.0  7.0  7.0  7.0  5.0  6.0  5.0  6.0  3.0     6   6.0     6   \n",
       "\n",
       "   WFB4  WFB5  \n",
       "0     2   1.0  \n",
       "1     2   2.0  \n",
       "2     6   6.0  \n",
       "3     6   7.0  \n",
       "4     5   6.0  \n",
       "5     6   6.0  "
      ]
     },
     "execution_count": 57,
     "metadata": {},
     "output_type": "execute_result"
    }
   ],
   "source": [
    "df.head(6)"
   ]
  },
  {
   "cell_type": "code",
   "execution_count": 16,
   "metadata": {
    "colab": {
     "base_uri": "https://localhost:8080/"
    },
    "id": "PFCdl7WLT6HH",
    "outputId": "1155f861-c708-4ad4-f87f-6e3d433bc74b"
   },
   "outputs": [
    {
     "data": {
      "text/plain": [
       "Index(['Gender', 'Age', 'YourMaritalStatus', 'EducationLevel', 'JS1', 'JS2',\n",
       "       'JS3', 'FS1', 'FS2', 'FS3', 'LS1', 'LS2', 'LS3', 'LS4', 'LS5', 'WFB1',\n",
       "       'WFB2', 'WFB3', 'WFB4', 'WFB5', 'WFB', 'JS', 'FS', 'LS'],\n",
       "      dtype='object')"
      ]
     },
     "execution_count": 16,
     "metadata": {},
     "output_type": "execute_result"
    }
   ],
   "source": [
    "df.columns"
   ]
  },
  {
   "cell_type": "code",
   "execution_count": 17,
   "metadata": {
    "id": "BFFJBksTT6HI"
   },
   "outputs": [],
   "source": [
    "#droping the variables\n",
    "df.drop(['Gender', 'Age', 'YourMaritalStatus', 'EducationLevel'], axis=1, inplace=True)"
   ]
  },
  {
   "cell_type": "code",
   "execution_count": 18,
   "metadata": {
    "id": "0bAVXXmIT6HI"
   },
   "outputs": [],
   "source": [
    "df.drop(['WFB', 'JS', 'FS', 'LS'], axis=1, inplace=True)"
   ]
  },
  {
   "cell_type": "code",
   "execution_count": 19,
   "metadata": {
    "colab": {
     "base_uri": "https://localhost:8080/"
    },
    "id": "cYo2Cdc2T6HJ",
    "outputId": "3071b2a2-16e3-412c-a09b-faf0f7aceed3"
   },
   "outputs": [
    {
     "data": {
      "text/plain": [
       "Index(['JS1', 'JS2', 'JS3', 'FS1', 'FS2', 'FS3', 'LS1', 'LS2', 'LS3', 'LS4',\n",
       "       'LS5', 'WFB1', 'WFB2', 'WFB3', 'WFB4', 'WFB5'],\n",
       "      dtype='object')"
      ]
     },
     "execution_count": 19,
     "metadata": {},
     "output_type": "execute_result"
    }
   ],
   "source": [
    "df.columns"
   ]
  },
  {
   "cell_type": "code",
   "execution_count": 20,
   "metadata": {
    "colab": {
     "base_uri": "https://localhost:8080/"
    },
    "id": "iv_gBuiST6HK",
    "outputId": "25806368-6a96-406c-9d7a-60e8639cc251"
   },
   "outputs": [
    {
     "name": "stdout",
     "output_type": "stream",
     "text": [
      "<class 'pandas.core.frame.DataFrame'>\n",
      "RangeIndex: 294 entries, 0 to 293\n",
      "Data columns (total 16 columns):\n",
      " #   Column  Non-Null Count  Dtype  \n",
      "---  ------  --------------  -----  \n",
      " 0   JS1     294 non-null    float64\n",
      " 1   JS2     294 non-null    float64\n",
      " 2   JS3     294 non-null    float64\n",
      " 3   FS1     294 non-null    float64\n",
      " 4   FS2     294 non-null    float64\n",
      " 5   FS3     294 non-null    float64\n",
      " 6   LS1     294 non-null    float64\n",
      " 7   LS2     294 non-null    float64\n",
      " 8   LS3     294 non-null    float64\n",
      " 9   LS4     294 non-null    float64\n",
      " 10  LS5     294 non-null    float64\n",
      " 11  WFB1    294 non-null    int64  \n",
      " 12  WFB2    294 non-null    float64\n",
      " 13  WFB3    294 non-null    int64  \n",
      " 14  WFB4    294 non-null    int64  \n",
      " 15  WFB5    294 non-null    float64\n",
      "dtypes: float64(13), int64(3)\n",
      "memory usage: 36.9 KB\n"
     ]
    }
   ],
   "source": [
    "df.info()"
   ]
  },
  {
   "cell_type": "code",
   "execution_count": 21,
   "metadata": {
    "colab": {
     "base_uri": "https://localhost:8080/",
     "height": 143
    },
    "id": "iQlpyVOHT6HK",
    "outputId": "57b6ee8f-0537-41ba-abe7-6ca9f38d3fef"
   },
   "outputs": [
    {
     "data": {
      "text/html": [
       "<div>\n",
       "<style scoped>\n",
       "    .dataframe tbody tr th:only-of-type {\n",
       "        vertical-align: middle;\n",
       "    }\n",
       "\n",
       "    .dataframe tbody tr th {\n",
       "        vertical-align: top;\n",
       "    }\n",
       "\n",
       "    .dataframe thead th {\n",
       "        text-align: right;\n",
       "    }\n",
       "</style>\n",
       "<table border=\"1\" class=\"dataframe\">\n",
       "  <thead>\n",
       "    <tr style=\"text-align: right;\">\n",
       "      <th></th>\n",
       "      <th>JS1</th>\n",
       "      <th>JS2</th>\n",
       "      <th>JS3</th>\n",
       "      <th>FS1</th>\n",
       "      <th>FS2</th>\n",
       "      <th>FS3</th>\n",
       "      <th>LS1</th>\n",
       "      <th>LS2</th>\n",
       "      <th>LS3</th>\n",
       "      <th>LS4</th>\n",
       "      <th>LS5</th>\n",
       "      <th>WFB1</th>\n",
       "      <th>WFB2</th>\n",
       "      <th>WFB3</th>\n",
       "      <th>WFB4</th>\n",
       "      <th>WFB5</th>\n",
       "    </tr>\n",
       "  </thead>\n",
       "  <tbody>\n",
       "    <tr>\n",
       "      <th>0</th>\n",
       "      <td>3.0</td>\n",
       "      <td>6.0</td>\n",
       "      <td>6.0</td>\n",
       "      <td>5.0</td>\n",
       "      <td>5.0</td>\n",
       "      <td>5.0</td>\n",
       "      <td>5.0</td>\n",
       "      <td>5.0</td>\n",
       "      <td>5.0</td>\n",
       "      <td>3.0</td>\n",
       "      <td>2.0</td>\n",
       "      <td>2</td>\n",
       "      <td>2.0</td>\n",
       "      <td>2</td>\n",
       "      <td>2</td>\n",
       "      <td>1.0</td>\n",
       "    </tr>\n",
       "    <tr>\n",
       "      <th>1</th>\n",
       "      <td>7.0</td>\n",
       "      <td>6.0</td>\n",
       "      <td>7.0</td>\n",
       "      <td>7.0</td>\n",
       "      <td>6.0</td>\n",
       "      <td>6.0</td>\n",
       "      <td>6.0</td>\n",
       "      <td>6.0</td>\n",
       "      <td>6.0</td>\n",
       "      <td>6.0</td>\n",
       "      <td>6.0</td>\n",
       "      <td>3</td>\n",
       "      <td>3.0</td>\n",
       "      <td>6</td>\n",
       "      <td>2</td>\n",
       "      <td>2.0</td>\n",
       "    </tr>\n",
       "    <tr>\n",
       "      <th>2</th>\n",
       "      <td>6.0</td>\n",
       "      <td>6.0</td>\n",
       "      <td>7.0</td>\n",
       "      <td>5.0</td>\n",
       "      <td>5.0</td>\n",
       "      <td>5.0</td>\n",
       "      <td>5.0</td>\n",
       "      <td>6.0</td>\n",
       "      <td>6.0</td>\n",
       "      <td>7.0</td>\n",
       "      <td>4.0</td>\n",
       "      <td>5</td>\n",
       "      <td>5.0</td>\n",
       "      <td>4</td>\n",
       "      <td>6</td>\n",
       "      <td>6.0</td>\n",
       "    </tr>\n",
       "  </tbody>\n",
       "</table>\n",
       "</div>"
      ],
      "text/plain": [
       "   JS1  JS2  JS3  FS1  FS2  FS3  LS1  LS2  LS3  LS4  LS5  WFB1  WFB2  WFB3  \\\n",
       "0  3.0  6.0  6.0  5.0  5.0  5.0  5.0  5.0  5.0  3.0  2.0     2   2.0     2   \n",
       "1  7.0  6.0  7.0  7.0  6.0  6.0  6.0  6.0  6.0  6.0  6.0     3   3.0     6   \n",
       "2  6.0  6.0  7.0  5.0  5.0  5.0  5.0  6.0  6.0  7.0  4.0     5   5.0     4   \n",
       "\n",
       "   WFB4  WFB5  \n",
       "0     2   1.0  \n",
       "1     2   2.0  \n",
       "2     6   6.0  "
      ]
     },
     "execution_count": 21,
     "metadata": {},
     "output_type": "execute_result"
    }
   ],
   "source": [
    "df.head(3)"
   ]
  },
  {
   "cell_type": "code",
   "execution_count": 22,
   "metadata": {
    "id": "Ec0pBy9ST6HL"
   },
   "outputs": [],
   "source": [
    "#droping the missing value rows\n",
    "df.dropna(inplace=True)"
   ]
  },
  {
   "cell_type": "code",
   "execution_count": 23,
   "metadata": {
    "colab": {
     "base_uri": "https://localhost:8080/"
    },
    "id": "yMdBHCmyT6HL",
    "outputId": "beb05488-b147-4e85-8441-5d027bd02764"
   },
   "outputs": [
    {
     "name": "stdout",
     "output_type": "stream",
     "text": [
      "<class 'pandas.core.frame.DataFrame'>\n",
      "RangeIndex: 294 entries, 0 to 293\n",
      "Data columns (total 16 columns):\n",
      " #   Column  Non-Null Count  Dtype  \n",
      "---  ------  --------------  -----  \n",
      " 0   JS1     294 non-null    float64\n",
      " 1   JS2     294 non-null    float64\n",
      " 2   JS3     294 non-null    float64\n",
      " 3   FS1     294 non-null    float64\n",
      " 4   FS2     294 non-null    float64\n",
      " 5   FS3     294 non-null    float64\n",
      " 6   LS1     294 non-null    float64\n",
      " 7   LS2     294 non-null    float64\n",
      " 8   LS3     294 non-null    float64\n",
      " 9   LS4     294 non-null    float64\n",
      " 10  LS5     294 non-null    float64\n",
      " 11  WFB1    294 non-null    int64  \n",
      " 12  WFB2    294 non-null    float64\n",
      " 13  WFB3    294 non-null    int64  \n",
      " 14  WFB4    294 non-null    int64  \n",
      " 15  WFB5    294 non-null    float64\n",
      "dtypes: float64(13), int64(3)\n",
      "memory usage: 36.9 KB\n"
     ]
    }
   ],
   "source": [
    "df.info()"
   ]
  },
  {
   "cell_type": "code",
   "execution_count": 24,
   "metadata": {
    "id": "WbQ6WPN-T6HL"
   },
   "outputs": [],
   "source": [
    "import numpy as np\n",
    "import pandas as pd\n",
    "import matplotlib.pyplot as plt\n",
    "import seaborn as sb"
   ]
  },
  {
   "cell_type": "code",
   "execution_count": 25,
   "metadata": {
    "colab": {
     "base_uri": "https://localhost:8080/",
     "height": 615
    },
    "id": "ucqlGZjmT6HM",
    "outputId": "a8e7b28d-3ce7-4609-f9a4-2b30e7d6c6cc",
    "scrolled": true
   },
   "outputs": [
    {
     "data": {
      "text/html": [
       "<div>\n",
       "<style scoped>\n",
       "    .dataframe tbody tr th:only-of-type {\n",
       "        vertical-align: middle;\n",
       "    }\n",
       "\n",
       "    .dataframe tbody tr th {\n",
       "        vertical-align: top;\n",
       "    }\n",
       "\n",
       "    .dataframe thead th {\n",
       "        text-align: right;\n",
       "    }\n",
       "</style>\n",
       "<table border=\"1\" class=\"dataframe\">\n",
       "  <thead>\n",
       "    <tr style=\"text-align: right;\">\n",
       "      <th></th>\n",
       "      <th>JS1</th>\n",
       "      <th>JS2</th>\n",
       "      <th>JS3</th>\n",
       "      <th>FS1</th>\n",
       "      <th>FS2</th>\n",
       "      <th>FS3</th>\n",
       "      <th>LS1</th>\n",
       "      <th>LS2</th>\n",
       "      <th>LS3</th>\n",
       "      <th>LS4</th>\n",
       "      <th>LS5</th>\n",
       "      <th>WFB1</th>\n",
       "      <th>WFB2</th>\n",
       "      <th>WFB3</th>\n",
       "      <th>WFB4</th>\n",
       "      <th>WFB5</th>\n",
       "    </tr>\n",
       "  </thead>\n",
       "  <tbody>\n",
       "    <tr>\n",
       "      <th>JS1</th>\n",
       "      <td>1.000000</td>\n",
       "      <td>0.746546</td>\n",
       "      <td>0.668964</td>\n",
       "      <td>0.343769</td>\n",
       "      <td>0.358915</td>\n",
       "      <td>0.347791</td>\n",
       "      <td>0.503294</td>\n",
       "      <td>0.428405</td>\n",
       "      <td>0.499894</td>\n",
       "      <td>0.425349</td>\n",
       "      <td>0.354261</td>\n",
       "      <td>0.391709</td>\n",
       "      <td>0.380172</td>\n",
       "      <td>0.319856</td>\n",
       "      <td>0.342301</td>\n",
       "      <td>0.317372</td>\n",
       "    </tr>\n",
       "    <tr>\n",
       "      <th>JS2</th>\n",
       "      <td>0.746546</td>\n",
       "      <td>1.000000</td>\n",
       "      <td>0.689562</td>\n",
       "      <td>0.314412</td>\n",
       "      <td>0.313857</td>\n",
       "      <td>0.304276</td>\n",
       "      <td>0.452484</td>\n",
       "      <td>0.345401</td>\n",
       "      <td>0.404317</td>\n",
       "      <td>0.323678</td>\n",
       "      <td>0.304284</td>\n",
       "      <td>0.309404</td>\n",
       "      <td>0.283341</td>\n",
       "      <td>0.231897</td>\n",
       "      <td>0.262977</td>\n",
       "      <td>0.208268</td>\n",
       "    </tr>\n",
       "    <tr>\n",
       "      <th>JS3</th>\n",
       "      <td>0.668964</td>\n",
       "      <td>0.689562</td>\n",
       "      <td>1.000000</td>\n",
       "      <td>0.221715</td>\n",
       "      <td>0.233309</td>\n",
       "      <td>0.229270</td>\n",
       "      <td>0.391315</td>\n",
       "      <td>0.318411</td>\n",
       "      <td>0.374323</td>\n",
       "      <td>0.322730</td>\n",
       "      <td>0.219139</td>\n",
       "      <td>0.243358</td>\n",
       "      <td>0.223612</td>\n",
       "      <td>0.214948</td>\n",
       "      <td>0.232935</td>\n",
       "      <td>0.235523</td>\n",
       "    </tr>\n",
       "    <tr>\n",
       "      <th>FS1</th>\n",
       "      <td>0.343769</td>\n",
       "      <td>0.314412</td>\n",
       "      <td>0.221715</td>\n",
       "      <td>1.000000</td>\n",
       "      <td>0.908294</td>\n",
       "      <td>0.880124</td>\n",
       "      <td>0.706766</td>\n",
       "      <td>0.646596</td>\n",
       "      <td>0.643549</td>\n",
       "      <td>0.494513</td>\n",
       "      <td>0.468409</td>\n",
       "      <td>0.487194</td>\n",
       "      <td>0.473857</td>\n",
       "      <td>0.459339</td>\n",
       "      <td>0.463843</td>\n",
       "      <td>0.428904</td>\n",
       "    </tr>\n",
       "    <tr>\n",
       "      <th>FS2</th>\n",
       "      <td>0.358915</td>\n",
       "      <td>0.313857</td>\n",
       "      <td>0.233309</td>\n",
       "      <td>0.908294</td>\n",
       "      <td>1.000000</td>\n",
       "      <td>0.914603</td>\n",
       "      <td>0.734151</td>\n",
       "      <td>0.710577</td>\n",
       "      <td>0.663519</td>\n",
       "      <td>0.540078</td>\n",
       "      <td>0.502652</td>\n",
       "      <td>0.508783</td>\n",
       "      <td>0.494406</td>\n",
       "      <td>0.453194</td>\n",
       "      <td>0.485398</td>\n",
       "      <td>0.423250</td>\n",
       "    </tr>\n",
       "    <tr>\n",
       "      <th>FS3</th>\n",
       "      <td>0.347791</td>\n",
       "      <td>0.304276</td>\n",
       "      <td>0.229270</td>\n",
       "      <td>0.880124</td>\n",
       "      <td>0.914603</td>\n",
       "      <td>1.000000</td>\n",
       "      <td>0.734676</td>\n",
       "      <td>0.711994</td>\n",
       "      <td>0.701085</td>\n",
       "      <td>0.583213</td>\n",
       "      <td>0.486668</td>\n",
       "      <td>0.523864</td>\n",
       "      <td>0.523730</td>\n",
       "      <td>0.506375</td>\n",
       "      <td>0.505063</td>\n",
       "      <td>0.460434</td>\n",
       "    </tr>\n",
       "    <tr>\n",
       "      <th>LS1</th>\n",
       "      <td>0.503294</td>\n",
       "      <td>0.452484</td>\n",
       "      <td>0.391315</td>\n",
       "      <td>0.706766</td>\n",
       "      <td>0.734151</td>\n",
       "      <td>0.734676</td>\n",
       "      <td>1.000000</td>\n",
       "      <td>0.814450</td>\n",
       "      <td>0.776172</td>\n",
       "      <td>0.654154</td>\n",
       "      <td>0.588366</td>\n",
       "      <td>0.519982</td>\n",
       "      <td>0.502557</td>\n",
       "      <td>0.470696</td>\n",
       "      <td>0.482511</td>\n",
       "      <td>0.439234</td>\n",
       "    </tr>\n",
       "    <tr>\n",
       "      <th>LS2</th>\n",
       "      <td>0.428405</td>\n",
       "      <td>0.345401</td>\n",
       "      <td>0.318411</td>\n",
       "      <td>0.646596</td>\n",
       "      <td>0.710577</td>\n",
       "      <td>0.711994</td>\n",
       "      <td>0.814450</td>\n",
       "      <td>1.000000</td>\n",
       "      <td>0.782540</td>\n",
       "      <td>0.648305</td>\n",
       "      <td>0.553692</td>\n",
       "      <td>0.496039</td>\n",
       "      <td>0.433212</td>\n",
       "      <td>0.410361</td>\n",
       "      <td>0.453241</td>\n",
       "      <td>0.426464</td>\n",
       "    </tr>\n",
       "    <tr>\n",
       "      <th>LS3</th>\n",
       "      <td>0.499894</td>\n",
       "      <td>0.404317</td>\n",
       "      <td>0.374323</td>\n",
       "      <td>0.643549</td>\n",
       "      <td>0.663519</td>\n",
       "      <td>0.701085</td>\n",
       "      <td>0.776172</td>\n",
       "      <td>0.782540</td>\n",
       "      <td>1.000000</td>\n",
       "      <td>0.747645</td>\n",
       "      <td>0.604025</td>\n",
       "      <td>0.483740</td>\n",
       "      <td>0.442431</td>\n",
       "      <td>0.437060</td>\n",
       "      <td>0.458334</td>\n",
       "      <td>0.411959</td>\n",
       "    </tr>\n",
       "    <tr>\n",
       "      <th>LS4</th>\n",
       "      <td>0.425349</td>\n",
       "      <td>0.323678</td>\n",
       "      <td>0.322730</td>\n",
       "      <td>0.494513</td>\n",
       "      <td>0.540078</td>\n",
       "      <td>0.583213</td>\n",
       "      <td>0.654154</td>\n",
       "      <td>0.648305</td>\n",
       "      <td>0.747645</td>\n",
       "      <td>1.000000</td>\n",
       "      <td>0.577644</td>\n",
       "      <td>0.409621</td>\n",
       "      <td>0.390700</td>\n",
       "      <td>0.364454</td>\n",
       "      <td>0.376652</td>\n",
       "      <td>0.358692</td>\n",
       "    </tr>\n",
       "    <tr>\n",
       "      <th>LS5</th>\n",
       "      <td>0.354261</td>\n",
       "      <td>0.304284</td>\n",
       "      <td>0.219139</td>\n",
       "      <td>0.468409</td>\n",
       "      <td>0.502652</td>\n",
       "      <td>0.486668</td>\n",
       "      <td>0.588366</td>\n",
       "      <td>0.553692</td>\n",
       "      <td>0.604025</td>\n",
       "      <td>0.577644</td>\n",
       "      <td>1.000000</td>\n",
       "      <td>0.399400</td>\n",
       "      <td>0.387846</td>\n",
       "      <td>0.329150</td>\n",
       "      <td>0.362556</td>\n",
       "      <td>0.314315</td>\n",
       "    </tr>\n",
       "    <tr>\n",
       "      <th>WFB1</th>\n",
       "      <td>0.391709</td>\n",
       "      <td>0.309404</td>\n",
       "      <td>0.243358</td>\n",
       "      <td>0.487194</td>\n",
       "      <td>0.508783</td>\n",
       "      <td>0.523864</td>\n",
       "      <td>0.519982</td>\n",
       "      <td>0.496039</td>\n",
       "      <td>0.483740</td>\n",
       "      <td>0.409621</td>\n",
       "      <td>0.399400</td>\n",
       "      <td>1.000000</td>\n",
       "      <td>0.854504</td>\n",
       "      <td>0.793367</td>\n",
       "      <td>0.862482</td>\n",
       "      <td>0.813485</td>\n",
       "    </tr>\n",
       "    <tr>\n",
       "      <th>WFB2</th>\n",
       "      <td>0.380172</td>\n",
       "      <td>0.283341</td>\n",
       "      <td>0.223612</td>\n",
       "      <td>0.473857</td>\n",
       "      <td>0.494406</td>\n",
       "      <td>0.523730</td>\n",
       "      <td>0.502557</td>\n",
       "      <td>0.433212</td>\n",
       "      <td>0.442431</td>\n",
       "      <td>0.390700</td>\n",
       "      <td>0.387846</td>\n",
       "      <td>0.854504</td>\n",
       "      <td>1.000000</td>\n",
       "      <td>0.819689</td>\n",
       "      <td>0.856884</td>\n",
       "      <td>0.781660</td>\n",
       "    </tr>\n",
       "    <tr>\n",
       "      <th>WFB3</th>\n",
       "      <td>0.319856</td>\n",
       "      <td>0.231897</td>\n",
       "      <td>0.214948</td>\n",
       "      <td>0.459339</td>\n",
       "      <td>0.453194</td>\n",
       "      <td>0.506375</td>\n",
       "      <td>0.470696</td>\n",
       "      <td>0.410361</td>\n",
       "      <td>0.437060</td>\n",
       "      <td>0.364454</td>\n",
       "      <td>0.329150</td>\n",
       "      <td>0.793367</td>\n",
       "      <td>0.819689</td>\n",
       "      <td>1.000000</td>\n",
       "      <td>0.871282</td>\n",
       "      <td>0.777488</td>\n",
       "    </tr>\n",
       "    <tr>\n",
       "      <th>WFB4</th>\n",
       "      <td>0.342301</td>\n",
       "      <td>0.262977</td>\n",
       "      <td>0.232935</td>\n",
       "      <td>0.463843</td>\n",
       "      <td>0.485398</td>\n",
       "      <td>0.505063</td>\n",
       "      <td>0.482511</td>\n",
       "      <td>0.453241</td>\n",
       "      <td>0.458334</td>\n",
       "      <td>0.376652</td>\n",
       "      <td>0.362556</td>\n",
       "      <td>0.862482</td>\n",
       "      <td>0.856884</td>\n",
       "      <td>0.871282</td>\n",
       "      <td>1.000000</td>\n",
       "      <td>0.847824</td>\n",
       "    </tr>\n",
       "    <tr>\n",
       "      <th>WFB5</th>\n",
       "      <td>0.317372</td>\n",
       "      <td>0.208268</td>\n",
       "      <td>0.235523</td>\n",
       "      <td>0.428904</td>\n",
       "      <td>0.423250</td>\n",
       "      <td>0.460434</td>\n",
       "      <td>0.439234</td>\n",
       "      <td>0.426464</td>\n",
       "      <td>0.411959</td>\n",
       "      <td>0.358692</td>\n",
       "      <td>0.314315</td>\n",
       "      <td>0.813485</td>\n",
       "      <td>0.781660</td>\n",
       "      <td>0.777488</td>\n",
       "      <td>0.847824</td>\n",
       "      <td>1.000000</td>\n",
       "    </tr>\n",
       "  </tbody>\n",
       "</table>\n",
       "</div>"
      ],
      "text/plain": [
       "           JS1       JS2       JS3       FS1       FS2       FS3       LS1  \\\n",
       "JS1   1.000000  0.746546  0.668964  0.343769  0.358915  0.347791  0.503294   \n",
       "JS2   0.746546  1.000000  0.689562  0.314412  0.313857  0.304276  0.452484   \n",
       "JS3   0.668964  0.689562  1.000000  0.221715  0.233309  0.229270  0.391315   \n",
       "FS1   0.343769  0.314412  0.221715  1.000000  0.908294  0.880124  0.706766   \n",
       "FS2   0.358915  0.313857  0.233309  0.908294  1.000000  0.914603  0.734151   \n",
       "FS3   0.347791  0.304276  0.229270  0.880124  0.914603  1.000000  0.734676   \n",
       "LS1   0.503294  0.452484  0.391315  0.706766  0.734151  0.734676  1.000000   \n",
       "LS2   0.428405  0.345401  0.318411  0.646596  0.710577  0.711994  0.814450   \n",
       "LS3   0.499894  0.404317  0.374323  0.643549  0.663519  0.701085  0.776172   \n",
       "LS4   0.425349  0.323678  0.322730  0.494513  0.540078  0.583213  0.654154   \n",
       "LS5   0.354261  0.304284  0.219139  0.468409  0.502652  0.486668  0.588366   \n",
       "WFB1  0.391709  0.309404  0.243358  0.487194  0.508783  0.523864  0.519982   \n",
       "WFB2  0.380172  0.283341  0.223612  0.473857  0.494406  0.523730  0.502557   \n",
       "WFB3  0.319856  0.231897  0.214948  0.459339  0.453194  0.506375  0.470696   \n",
       "WFB4  0.342301  0.262977  0.232935  0.463843  0.485398  0.505063  0.482511   \n",
       "WFB5  0.317372  0.208268  0.235523  0.428904  0.423250  0.460434  0.439234   \n",
       "\n",
       "           LS2       LS3       LS4       LS5      WFB1      WFB2      WFB3  \\\n",
       "JS1   0.428405  0.499894  0.425349  0.354261  0.391709  0.380172  0.319856   \n",
       "JS2   0.345401  0.404317  0.323678  0.304284  0.309404  0.283341  0.231897   \n",
       "JS3   0.318411  0.374323  0.322730  0.219139  0.243358  0.223612  0.214948   \n",
       "FS1   0.646596  0.643549  0.494513  0.468409  0.487194  0.473857  0.459339   \n",
       "FS2   0.710577  0.663519  0.540078  0.502652  0.508783  0.494406  0.453194   \n",
       "FS3   0.711994  0.701085  0.583213  0.486668  0.523864  0.523730  0.506375   \n",
       "LS1   0.814450  0.776172  0.654154  0.588366  0.519982  0.502557  0.470696   \n",
       "LS2   1.000000  0.782540  0.648305  0.553692  0.496039  0.433212  0.410361   \n",
       "LS3   0.782540  1.000000  0.747645  0.604025  0.483740  0.442431  0.437060   \n",
       "LS4   0.648305  0.747645  1.000000  0.577644  0.409621  0.390700  0.364454   \n",
       "LS5   0.553692  0.604025  0.577644  1.000000  0.399400  0.387846  0.329150   \n",
       "WFB1  0.496039  0.483740  0.409621  0.399400  1.000000  0.854504  0.793367   \n",
       "WFB2  0.433212  0.442431  0.390700  0.387846  0.854504  1.000000  0.819689   \n",
       "WFB3  0.410361  0.437060  0.364454  0.329150  0.793367  0.819689  1.000000   \n",
       "WFB4  0.453241  0.458334  0.376652  0.362556  0.862482  0.856884  0.871282   \n",
       "WFB5  0.426464  0.411959  0.358692  0.314315  0.813485  0.781660  0.777488   \n",
       "\n",
       "          WFB4      WFB5  \n",
       "JS1   0.342301  0.317372  \n",
       "JS2   0.262977  0.208268  \n",
       "JS3   0.232935  0.235523  \n",
       "FS1   0.463843  0.428904  \n",
       "FS2   0.485398  0.423250  \n",
       "FS3   0.505063  0.460434  \n",
       "LS1   0.482511  0.439234  \n",
       "LS2   0.453241  0.426464  \n",
       "LS3   0.458334  0.411959  \n",
       "LS4   0.376652  0.358692  \n",
       "LS5   0.362556  0.314315  \n",
       "WFB1  0.862482  0.813485  \n",
       "WFB2  0.856884  0.781660  \n",
       "WFB3  0.871282  0.777488  \n",
       "WFB4  1.000000  0.847824  \n",
       "WFB5  0.847824  1.000000  "
      ]
     },
     "execution_count": 25,
     "metadata": {},
     "output_type": "execute_result"
    }
   ],
   "source": [
    "corr = df.corr(method='pearson')\n",
    "corr"
   ]
  },
  {
   "cell_type": "code",
   "execution_count": 26,
   "metadata": {
    "id": "HKddmjNwT6HM",
    "scrolled": true
   },
   "outputs": [],
   "source": [
    "fa = FactorAnalyzer(n_factors=4, rotation=\"promax\")"
   ]
  },
  {
   "cell_type": "code",
   "execution_count": 27,
   "metadata": {
    "colab": {
     "base_uri": "https://localhost:8080/"
    },
    "id": "tny5jIJlT6HM",
    "outputId": "f6afb99b-4182-4f08-fa37-f3355332f8b6"
   },
   "outputs": [
    {
     "data": {
      "text/plain": [
       "FactorAnalyzer(n_factors=4, rotation_kwargs={})"
      ]
     },
     "execution_count": 27,
     "metadata": {},
     "output_type": "execute_result"
    }
   ],
   "source": [
    "fa.fit(df)"
   ]
  },
  {
   "cell_type": "code",
   "execution_count": 28,
   "metadata": {
    "id": "ED1-jiiaT6HN"
   },
   "outputs": [],
   "source": [
    "loadings=fa.loadings_"
   ]
  },
  {
   "cell_type": "code",
   "execution_count": 19,
   "metadata": {
    "colab": {
     "base_uri": "https://localhost:8080/"
    },
    "id": "I4bdG4uPT6HN",
    "outputId": "14f7d13f-44f0-48e6-f8ac-c8902a4d1fd6"
   },
   "outputs": [
    {
     "data": {
      "text/plain": [
       "array([[ 0.06153107,  0.10201227, -0.0380283 ,  0.79255356],\n",
       "       [-0.03843872, -0.10295089,  0.08673041,  0.91877085],\n",
       "       [-0.0132588 ,  0.01555538, -0.0619797 ,  0.80228431],\n",
       "       [ 0.00414702, -0.03484884,  0.95435909,  0.01658922],\n",
       "       [-0.01409658,  0.03366943,  0.95394131, -0.00424702],\n",
       "       [ 0.04369222,  0.13998414,  0.82827785, -0.0459361 ],\n",
       "       [ 0.01685017,  0.60558634,  0.26061238,  0.10700595],\n",
       "       [-0.00835897,  0.7230552 ,  0.19518293, -0.0214858 ],\n",
       "       [-0.023376  ,  0.88632703,  0.03179414,  0.02534942],\n",
       "       [-0.01310624,  0.91343892, -0.11857264, -0.02083807],\n",
       "       [ 0.03615453,  0.68314314, -0.01895095, -0.02297695],\n",
       "       [ 0.87425284,  0.05054129,  0.00453955,  0.02809403],\n",
       "       [ 0.89217877, -0.01629934,  0.03475559,  0.02345602],\n",
       "       [ 0.89807146, -0.02546554,  0.02846857, -0.01969882],\n",
       "       [ 0.97428581, -0.01304599, -0.0120347 , -0.01130948],\n",
       "       [ 0.89750644,  0.01187618, -0.03716688, -0.01937733]])"
      ]
     },
     "execution_count": 19,
     "metadata": {},
     "output_type": "execute_result"
    }
   ],
   "source": [
    "loadings"
   ]
  },
  {
   "cell_type": "code",
   "execution_count": 29,
   "metadata": {
    "id": "-FX5FE2gT6HN"
   },
   "outputs": [],
   "source": [
    "ev, v = fa.get_eigenvalues()"
   ]
  },
  {
   "cell_type": "code",
   "execution_count": 30,
   "metadata": {
    "id": "SYYVgbKVT6HO"
   },
   "outputs": [],
   "source": [
    "xvals=range(1, df.shape[1]+1)"
   ]
  },
  {
   "cell_type": "code",
   "execution_count": 31,
   "metadata": {
    "colab": {
     "base_uri": "https://localhost:8080/",
     "height": 295
    },
    "id": "1S3Hc0v6T6HO",
    "outputId": "8493f43d-2377-485e-f905-fb278f316ced"
   },
   "outputs": [
    {
     "data": {
      "image/png": "[encoded data removed]",
      "text/plain": [
       "<Figure size 432x288 with 1 Axes>"
      ]
     },
     "metadata": {
      "needs_background": "light"
     },
     "output_type": "display_data"
    }
   ],
   "source": [
    "plt.scatter(xvals, ev)\n",
    "plt.plot(xvals, ev)\n",
    "plt.title(\"screeplot\")\n",
    "plt.xlabel('factor')\n",
    "plt.ylabel('eigenvalue')\n",
    "plt.grid()\n",
    "plt.show()"
   ]
  },
  {
   "cell_type": "code",
   "execution_count": 32,
   "metadata": {
    "colab": {
     "base_uri": "https://localhost:8080/",
     "height": 551
    },
    "id": "6aOolLcKT6HO",
    "outputId": "459d74f7-453b-4b8d-89db-6a6e280be31a"
   },
   "outputs": [
    {
     "data": {
      "text/html": [
       "<div>\n",
       "<style scoped>\n",
       "    .dataframe tbody tr th:only-of-type {\n",
       "        vertical-align: middle;\n",
       "    }\n",
       "\n",
       "    .dataframe tbody tr th {\n",
       "        vertical-align: top;\n",
       "    }\n",
       "\n",
       "    .dataframe thead th {\n",
       "        text-align: right;\n",
       "    }\n",
       "</style>\n",
       "<table border=\"1\" class=\"dataframe\">\n",
       "  <thead>\n",
       "    <tr style=\"text-align: right;\">\n",
       "      <th></th>\n",
       "      <th>0</th>\n",
       "      <th>1</th>\n",
       "      <th>2</th>\n",
       "      <th>3</th>\n",
       "    </tr>\n",
       "  </thead>\n",
       "  <tbody>\n",
       "    <tr>\n",
       "      <th>0</th>\n",
       "      <td>0.061531</td>\n",
       "      <td>0.102012</td>\n",
       "      <td>-0.038028</td>\n",
       "      <td>0.792554</td>\n",
       "    </tr>\n",
       "    <tr>\n",
       "      <th>1</th>\n",
       "      <td>-0.038439</td>\n",
       "      <td>-0.102951</td>\n",
       "      <td>0.086730</td>\n",
       "      <td>0.918771</td>\n",
       "    </tr>\n",
       "    <tr>\n",
       "      <th>2</th>\n",
       "      <td>-0.013259</td>\n",
       "      <td>0.015555</td>\n",
       "      <td>-0.061980</td>\n",
       "      <td>0.802284</td>\n",
       "    </tr>\n",
       "    <tr>\n",
       "      <th>3</th>\n",
       "      <td>0.004147</td>\n",
       "      <td>-0.034849</td>\n",
       "      <td>0.954359</td>\n",
       "      <td>0.016589</td>\n",
       "    </tr>\n",
       "    <tr>\n",
       "      <th>4</th>\n",
       "      <td>-0.014097</td>\n",
       "      <td>0.033669</td>\n",
       "      <td>0.953941</td>\n",
       "      <td>-0.004247</td>\n",
       "    </tr>\n",
       "    <tr>\n",
       "      <th>5</th>\n",
       "      <td>0.043692</td>\n",
       "      <td>0.139984</td>\n",
       "      <td>0.828278</td>\n",
       "      <td>-0.045936</td>\n",
       "    </tr>\n",
       "    <tr>\n",
       "      <th>6</th>\n",
       "      <td>0.016850</td>\n",
       "      <td>0.605586</td>\n",
       "      <td>0.260612</td>\n",
       "      <td>0.107006</td>\n",
       "    </tr>\n",
       "    <tr>\n",
       "      <th>7</th>\n",
       "      <td>-0.008359</td>\n",
       "      <td>0.723055</td>\n",
       "      <td>0.195183</td>\n",
       "      <td>-0.021486</td>\n",
       "    </tr>\n",
       "    <tr>\n",
       "      <th>8</th>\n",
       "      <td>-0.023376</td>\n",
       "      <td>0.886327</td>\n",
       "      <td>0.031794</td>\n",
       "      <td>0.025349</td>\n",
       "    </tr>\n",
       "    <tr>\n",
       "      <th>9</th>\n",
       "      <td>-0.013106</td>\n",
       "      <td>0.913439</td>\n",
       "      <td>-0.118573</td>\n",
       "      <td>-0.020838</td>\n",
       "    </tr>\n",
       "    <tr>\n",
       "      <th>10</th>\n",
       "      <td>0.036155</td>\n",
       "      <td>0.683143</td>\n",
       "      <td>-0.018951</td>\n",
       "      <td>-0.022977</td>\n",
       "    </tr>\n",
       "    <tr>\n",
       "      <th>11</th>\n",
       "      <td>0.874253</td>\n",
       "      <td>0.050541</td>\n",
       "      <td>0.004540</td>\n",
       "      <td>0.028094</td>\n",
       "    </tr>\n",
       "    <tr>\n",
       "      <th>12</th>\n",
       "      <td>0.892179</td>\n",
       "      <td>-0.016299</td>\n",
       "      <td>0.034756</td>\n",
       "      <td>0.023456</td>\n",
       "    </tr>\n",
       "    <tr>\n",
       "      <th>13</th>\n",
       "      <td>0.898071</td>\n",
       "      <td>-0.025466</td>\n",
       "      <td>0.028469</td>\n",
       "      <td>-0.019699</td>\n",
       "    </tr>\n",
       "    <tr>\n",
       "      <th>14</th>\n",
       "      <td>0.974286</td>\n",
       "      <td>-0.013046</td>\n",
       "      <td>-0.012035</td>\n",
       "      <td>-0.011309</td>\n",
       "    </tr>\n",
       "    <tr>\n",
       "      <th>15</th>\n",
       "      <td>0.897506</td>\n",
       "      <td>0.011876</td>\n",
       "      <td>-0.037167</td>\n",
       "      <td>-0.019377</td>\n",
       "    </tr>\n",
       "  </tbody>\n",
       "</table>\n",
       "</div>"
      ],
      "text/plain": [
       "           0         1         2         3\n",
       "0   0.061531  0.102012 -0.038028  0.792554\n",
       "1  -0.038439 -0.102951  0.086730  0.918771\n",
       "2  -0.013259  0.015555 -0.061980  0.802284\n",
       "3   0.004147 -0.034849  0.954359  0.016589\n",
       "4  -0.014097  0.033669  0.953941 -0.004247\n",
       "5   0.043692  0.139984  0.828278 -0.045936\n",
       "6   0.016850  0.605586  0.260612  0.107006\n",
       "7  -0.008359  0.723055  0.195183 -0.021486\n",
       "8  -0.023376  0.886327  0.031794  0.025349\n",
       "9  -0.013106  0.913439 -0.118573 -0.020838\n",
       "10  0.036155  0.683143 -0.018951 -0.022977\n",
       "11  0.874253  0.050541  0.004540  0.028094\n",
       "12  0.892179 -0.016299  0.034756  0.023456\n",
       "13  0.898071 -0.025466  0.028469 -0.019699\n",
       "14  0.974286 -0.013046 -0.012035 -0.011309\n",
       "15  0.897506  0.011876 -0.037167 -0.019377"
      ]
     },
     "execution_count": 32,
     "metadata": {},
     "output_type": "execute_result"
    }
   ],
   "source": [
    "#obtaining the factor laodings\n",
    "loadings1=pd.DataFrame.from_records(loadings)\n",
    "loadings1"
   ]
  },
  {
   "cell_type": "code",
   "execution_count": 33,
   "metadata": {
    "colab": {
     "base_uri": "https://localhost:8080/",
     "height": 551
    },
    "id": "m8nEYZBIT6HP",
    "outputId": "fb1578a0-f3c2-46cb-d0e0-04facf34a465"
   },
   "outputs": [
    {
     "data": {
      "text/html": [
       "<div>\n",
       "<style scoped>\n",
       "    .dataframe tbody tr th:only-of-type {\n",
       "        vertical-align: middle;\n",
       "    }\n",
       "\n",
       "    .dataframe tbody tr th {\n",
       "        vertical-align: top;\n",
       "    }\n",
       "\n",
       "    .dataframe thead th {\n",
       "        text-align: right;\n",
       "    }\n",
       "</style>\n",
       "<table border=\"1\" class=\"dataframe\">\n",
       "  <thead>\n",
       "    <tr style=\"text-align: right;\">\n",
       "      <th></th>\n",
       "      <th>0</th>\n",
       "      <th>1</th>\n",
       "      <th>2</th>\n",
       "      <th>3</th>\n",
       "    </tr>\n",
       "  </thead>\n",
       "  <tbody>\n",
       "    <tr>\n",
       "      <th>0</th>\n",
       "      <td>0.061531</td>\n",
       "      <td>0.102012</td>\n",
       "      <td>-0.038028</td>\n",
       "      <td>0.792554</td>\n",
       "    </tr>\n",
       "    <tr>\n",
       "      <th>1</th>\n",
       "      <td>-0.038439</td>\n",
       "      <td>-0.102951</td>\n",
       "      <td>0.086730</td>\n",
       "      <td>0.918771</td>\n",
       "    </tr>\n",
       "    <tr>\n",
       "      <th>2</th>\n",
       "      <td>-0.013259</td>\n",
       "      <td>0.015555</td>\n",
       "      <td>-0.061980</td>\n",
       "      <td>0.802284</td>\n",
       "    </tr>\n",
       "    <tr>\n",
       "      <th>3</th>\n",
       "      <td>0.004147</td>\n",
       "      <td>-0.034849</td>\n",
       "      <td>0.954359</td>\n",
       "      <td>0.016589</td>\n",
       "    </tr>\n",
       "    <tr>\n",
       "      <th>4</th>\n",
       "      <td>-0.014097</td>\n",
       "      <td>0.033669</td>\n",
       "      <td>0.953941</td>\n",
       "      <td>-0.004247</td>\n",
       "    </tr>\n",
       "    <tr>\n",
       "      <th>5</th>\n",
       "      <td>0.043692</td>\n",
       "      <td>0.139984</td>\n",
       "      <td>0.828278</td>\n",
       "      <td>-0.045936</td>\n",
       "    </tr>\n",
       "    <tr>\n",
       "      <th>6</th>\n",
       "      <td>0.016850</td>\n",
       "      <td>0.605586</td>\n",
       "      <td>0.260612</td>\n",
       "      <td>0.107006</td>\n",
       "    </tr>\n",
       "    <tr>\n",
       "      <th>7</th>\n",
       "      <td>-0.008359</td>\n",
       "      <td>0.723055</td>\n",
       "      <td>0.195183</td>\n",
       "      <td>-0.021486</td>\n",
       "    </tr>\n",
       "    <tr>\n",
       "      <th>8</th>\n",
       "      <td>-0.023376</td>\n",
       "      <td>0.886327</td>\n",
       "      <td>0.031794</td>\n",
       "      <td>0.025349</td>\n",
       "    </tr>\n",
       "    <tr>\n",
       "      <th>9</th>\n",
       "      <td>-0.013106</td>\n",
       "      <td>0.913439</td>\n",
       "      <td>-0.118573</td>\n",
       "      <td>-0.020838</td>\n",
       "    </tr>\n",
       "    <tr>\n",
       "      <th>10</th>\n",
       "      <td>0.036155</td>\n",
       "      <td>0.683143</td>\n",
       "      <td>-0.018951</td>\n",
       "      <td>-0.022977</td>\n",
       "    </tr>\n",
       "    <tr>\n",
       "      <th>11</th>\n",
       "      <td>0.874253</td>\n",
       "      <td>0.050541</td>\n",
       "      <td>0.004540</td>\n",
       "      <td>0.028094</td>\n",
       "    </tr>\n",
       "    <tr>\n",
       "      <th>12</th>\n",
       "      <td>0.892179</td>\n",
       "      <td>-0.016299</td>\n",
       "      <td>0.034756</td>\n",
       "      <td>0.023456</td>\n",
       "    </tr>\n",
       "    <tr>\n",
       "      <th>13</th>\n",
       "      <td>0.898071</td>\n",
       "      <td>-0.025466</td>\n",
       "      <td>0.028469</td>\n",
       "      <td>-0.019699</td>\n",
       "    </tr>\n",
       "    <tr>\n",
       "      <th>14</th>\n",
       "      <td>0.974286</td>\n",
       "      <td>-0.013046</td>\n",
       "      <td>-0.012035</td>\n",
       "      <td>-0.011309</td>\n",
       "    </tr>\n",
       "    <tr>\n",
       "      <th>15</th>\n",
       "      <td>0.897506</td>\n",
       "      <td>0.011876</td>\n",
       "      <td>-0.037167</td>\n",
       "      <td>-0.019377</td>\n",
       "    </tr>\n",
       "  </tbody>\n",
       "</table>\n",
       "</div>"
      ],
      "text/plain": [
       "           0         1         2         3\n",
       "0   0.061531  0.102012 -0.038028  0.792554\n",
       "1  -0.038439 -0.102951  0.086730  0.918771\n",
       "2  -0.013259  0.015555 -0.061980  0.802284\n",
       "3   0.004147 -0.034849  0.954359  0.016589\n",
       "4  -0.014097  0.033669  0.953941 -0.004247\n",
       "5   0.043692  0.139984  0.828278 -0.045936\n",
       "6   0.016850  0.605586  0.260612  0.107006\n",
       "7  -0.008359  0.723055  0.195183 -0.021486\n",
       "8  -0.023376  0.886327  0.031794  0.025349\n",
       "9  -0.013106  0.913439 -0.118573 -0.020838\n",
       "10  0.036155  0.683143 -0.018951 -0.022977\n",
       "11  0.874253  0.050541  0.004540  0.028094\n",
       "12  0.892179 -0.016299  0.034756  0.023456\n",
       "13  0.898071 -0.025466  0.028469 -0.019699\n",
       "14  0.974286 -0.013046 -0.012035 -0.011309\n",
       "15  0.897506  0.011876 -0.037167 -0.019377"
      ]
     },
     "execution_count": 33,
     "metadata": {},
     "output_type": "execute_result"
    }
   ],
   "source": [
    "#creating data frame\n",
    "df1=pd.DataFrame.from_records(loadings1)\n",
    "df1"
   ]
  },
  {
   "cell_type": "code",
   "execution_count": 40,
   "metadata": {
    "id": "jigHAExTT6HP"
   },
   "outputs": [],
   "source": [
    "#exporting the loadings \n",
    "path=(\"/Users/vijithanayak/HRA/loadings\")\n",
    "df1.to_csv(path)"
   ]
  },
  {
   "cell_type": "code",
   "execution_count": 41,
   "metadata": {
    "colab": {
     "base_uri": "https://localhost:8080/"
    },
    "id": "x9A5CjWTT6HQ",
    "outputId": "073ec1de-581b-49e2-b492-9df348eea2dd"
   },
   "outputs": [
    {
     "data": {
      "text/plain": [
       "(4792.341002580756, 0.0)"
      ]
     },
     "execution_count": 41,
     "metadata": {},
     "output_type": "execute_result"
    }
   ],
   "source": [
    "#bartlett_sphericity\n",
    "from factor_analyzer.factor_analyzer import calculate_bartlett_sphericity\n",
    "chi_square_value,p_value=calculate_bartlett_sphericity(df)\n",
    "chi_square_value, p_value"
   ]
  },
  {
   "cell_type": "code",
   "execution_count": 42,
   "metadata": {
    "id": "3nTD91hlT6HQ"
   },
   "outputs": [],
   "source": [
    "from factor_analyzer.factor_analyzer import calculate_kmo\n",
    "kmo_all,kmo_model=calculate_kmo(df)"
   ]
  },
  {
   "cell_type": "code",
   "execution_count": 43,
   "metadata": {
    "colab": {
     "base_uri": "https://localhost:8080/"
    },
    "id": "mkj1zW0RT6HQ",
    "outputId": "c1d23144-8b9b-4bc0-8d76-335fefd2c3b3"
   },
   "outputs": [
    {
     "data": {
      "text/plain": [
       "0.922967763669724"
      ]
     },
     "execution_count": 43,
     "metadata": {},
     "output_type": "execute_result"
    }
   ],
   "source": [
    "kmo_model"
   ]
  },
  {
   "cell_type": "code",
   "execution_count": 44,
   "metadata": {
    "id": "P-NZbDTVT6HQ"
   },
   "outputs": [],
   "source": [
    "factorvariance=fa.get_factor_variance()"
   ]
  },
  {
   "cell_type": "code",
   "execution_count": 45,
   "metadata": {
    "colab": {
     "base_uri": "https://localhost:8080/"
    },
    "id": "_LZY5mj-T6HQ",
    "outputId": "12c7fd45-67ec-43aa-cfe3-4858edbe8ec7"
   },
   "outputs": [
    {
     "data": {
      "text/plain": [
       "(array([4.13152744, 3.02314528, 2.64466917, 2.13409207]),\n",
       " array([0.25822047, 0.18894658, 0.16529182, 0.13338075]),\n",
       " array([0.25822047, 0.44716705, 0.61245887, 0.74583962]))"
      ]
     },
     "execution_count": 45,
     "metadata": {},
     "output_type": "execute_result"
    }
   ],
   "source": [
    "factorvariance"
   ]
  },
  {
   "cell_type": "code",
   "execution_count": 46,
   "metadata": {
    "colab": {
     "base_uri": "https://localhost:8080/",
     "height": 143
    },
    "id": "zOo8Iv76T6HR",
    "outputId": "4d0fa93e-e474-4562-f99c-691b6484bfcb"
   },
   "outputs": [
    {
     "data": {
      "text/html": [
       "<div>\n",
       "<style scoped>\n",
       "    .dataframe tbody tr th:only-of-type {\n",
       "        vertical-align: middle;\n",
       "    }\n",
       "\n",
       "    .dataframe tbody tr th {\n",
       "        vertical-align: top;\n",
       "    }\n",
       "\n",
       "    .dataframe thead th {\n",
       "        text-align: right;\n",
       "    }\n",
       "</style>\n",
       "<table border=\"1\" class=\"dataframe\">\n",
       "  <thead>\n",
       "    <tr style=\"text-align: right;\">\n",
       "      <th></th>\n",
       "      <th>0</th>\n",
       "      <th>1</th>\n",
       "      <th>2</th>\n",
       "      <th>3</th>\n",
       "    </tr>\n",
       "  </thead>\n",
       "  <tbody>\n",
       "    <tr>\n",
       "      <th>0</th>\n",
       "      <td>4.131527</td>\n",
       "      <td>3.023145</td>\n",
       "      <td>2.644669</td>\n",
       "      <td>2.134092</td>\n",
       "    </tr>\n",
       "    <tr>\n",
       "      <th>1</th>\n",
       "      <td>0.258220</td>\n",
       "      <td>0.188947</td>\n",
       "      <td>0.165292</td>\n",
       "      <td>0.133381</td>\n",
       "    </tr>\n",
       "    <tr>\n",
       "      <th>2</th>\n",
       "      <td>0.258220</td>\n",
       "      <td>0.447167</td>\n",
       "      <td>0.612459</td>\n",
       "      <td>0.745840</td>\n",
       "    </tr>\n",
       "  </tbody>\n",
       "</table>\n",
       "</div>"
      ],
      "text/plain": [
       "          0         1         2         3\n",
       "0  4.131527  3.023145  2.644669  2.134092\n",
       "1  0.258220  0.188947  0.165292  0.133381\n",
       "2  0.258220  0.447167  0.612459  0.745840"
      ]
     },
     "execution_count": 46,
     "metadata": {},
     "output_type": "execute_result"
    }
   ],
   "source": [
    "pd.DataFrame.from_records(factorvariance)"
   ]
  },
  {
   "cell_type": "code",
   "execution_count": 47,
   "metadata": {
    "colab": {
     "base_uri": "https://localhost:8080/"
    },
    "id": "PxX9BpRMT6HR",
    "outputId": "aa6bbf70-e430-464b-e1eb-b9e0109f833d"
   },
   "outputs": [
    {
     "data": {
      "text/plain": [
       "array([0.64377987, 0.86373847, 0.64791938, 0.9123081 , 0.91135441,\n",
       "       0.70965889, 0.44638783, 0.56143671, 0.78777551, 0.84903613,\n",
       "       0.46887878, 0.76768233, 0.79800676, 0.80837935, 0.94967576,\n",
       "       0.80741571])"
      ]
     },
     "execution_count": 47,
     "metadata": {},
     "output_type": "execute_result"
    }
   ],
   "source": [
    "fa.get_communalities()"
   ]
  },
  {
   "cell_type": "code",
   "execution_count": 48,
   "metadata": {
    "colab": {
     "base_uri": "https://localhost:8080/"
    },
    "id": "zEi3FOfzT6HR",
    "outputId": "30ebc11b-9370-4e40-d2fa-27124e490b66"
   },
   "outputs": [
    {
     "data": {
      "text/plain": [
       "array([[-1.85566935, -1.04858441, -0.49724337, -0.81606876],\n",
       "       [-1.13642287,  0.30810801,  0.3902172 ,  0.55722703],\n",
       "       [ 0.3490957 ,  0.24900657, -0.61808444,  0.3214965 ],\n",
       "       ...,\n",
       "       [-1.13225433, -0.93461747, -1.36467105, -0.65865212],\n",
       "       [-0.42964368,  0.52752872,  0.93362097, -0.38841897],\n",
       "       [-0.4137256 ,  0.39477105,  0.2091611 ,  0.11819241]])"
      ]
     },
     "execution_count": 48,
     "metadata": {},
     "output_type": "execute_result"
    }
   ],
   "source": [
    "factorscore=fa.transform(df)\n",
    "factorscore"
   ]
  },
  {
   "cell_type": "code",
   "execution_count": 49,
   "metadata": {
    "colab": {
     "base_uri": "https://localhost:8080/",
     "height": 424
    },
    "id": "QC2LgCTzT6HR",
    "outputId": "a81d3312-429e-402e-9b78-9367497065c4"
   },
   "outputs": [
    {
     "data": {
      "text/html": [
       "<div>\n",
       "<style scoped>\n",
       "    .dataframe tbody tr th:only-of-type {\n",
       "        vertical-align: middle;\n",
       "    }\n",
       "\n",
       "    .dataframe tbody tr th {\n",
       "        vertical-align: top;\n",
       "    }\n",
       "\n",
       "    .dataframe thead th {\n",
       "        text-align: right;\n",
       "    }\n",
       "</style>\n",
       "<table border=\"1\" class=\"dataframe\">\n",
       "  <thead>\n",
       "    <tr style=\"text-align: right;\">\n",
       "      <th></th>\n",
       "      <th>0</th>\n",
       "      <th>1</th>\n",
       "      <th>2</th>\n",
       "      <th>3</th>\n",
       "    </tr>\n",
       "  </thead>\n",
       "  <tbody>\n",
       "    <tr>\n",
       "      <th>0</th>\n",
       "      <td>-1.855669</td>\n",
       "      <td>-1.048584</td>\n",
       "      <td>-0.497243</td>\n",
       "      <td>-0.816069</td>\n",
       "    </tr>\n",
       "    <tr>\n",
       "      <th>1</th>\n",
       "      <td>-1.136423</td>\n",
       "      <td>0.308108</td>\n",
       "      <td>0.390217</td>\n",
       "      <td>0.557227</td>\n",
       "    </tr>\n",
       "    <tr>\n",
       "      <th>2</th>\n",
       "      <td>0.349096</td>\n",
       "      <td>0.249007</td>\n",
       "      <td>-0.618084</td>\n",
       "      <td>0.321496</td>\n",
       "    </tr>\n",
       "    <tr>\n",
       "      <th>3</th>\n",
       "      <td>0.826228</td>\n",
       "      <td>0.535804</td>\n",
       "      <td>0.237079</td>\n",
       "      <td>1.052159</td>\n",
       "    </tr>\n",
       "    <tr>\n",
       "      <th>4</th>\n",
       "      <td>0.276760</td>\n",
       "      <td>0.253000</td>\n",
       "      <td>-1.077947</td>\n",
       "      <td>1.059869</td>\n",
       "    </tr>\n",
       "    <tr>\n",
       "      <th>...</th>\n",
       "      <td>...</td>\n",
       "      <td>...</td>\n",
       "      <td>...</td>\n",
       "      <td>...</td>\n",
       "    </tr>\n",
       "    <tr>\n",
       "      <th>289</th>\n",
       "      <td>0.465459</td>\n",
       "      <td>1.050204</td>\n",
       "      <td>0.980480</td>\n",
       "      <td>0.215976</td>\n",
       "    </tr>\n",
       "    <tr>\n",
       "      <th>290</th>\n",
       "      <td>0.310096</td>\n",
       "      <td>0.050237</td>\n",
       "      <td>0.934426</td>\n",
       "      <td>0.071359</td>\n",
       "    </tr>\n",
       "    <tr>\n",
       "      <th>291</th>\n",
       "      <td>-1.132254</td>\n",
       "      <td>-0.934617</td>\n",
       "      <td>-1.364671</td>\n",
       "      <td>-0.658652</td>\n",
       "    </tr>\n",
       "    <tr>\n",
       "      <th>292</th>\n",
       "      <td>-0.429644</td>\n",
       "      <td>0.527529</td>\n",
       "      <td>0.933621</td>\n",
       "      <td>-0.388419</td>\n",
       "    </tr>\n",
       "    <tr>\n",
       "      <th>293</th>\n",
       "      <td>-0.413726</td>\n",
       "      <td>0.394771</td>\n",
       "      <td>0.209161</td>\n",
       "      <td>0.118192</td>\n",
       "    </tr>\n",
       "  </tbody>\n",
       "</table>\n",
       "<p>294 rows × 4 columns</p>\n",
       "</div>"
      ],
      "text/plain": [
       "            0         1         2         3\n",
       "0   -1.855669 -1.048584 -0.497243 -0.816069\n",
       "1   -1.136423  0.308108  0.390217  0.557227\n",
       "2    0.349096  0.249007 -0.618084  0.321496\n",
       "3    0.826228  0.535804  0.237079  1.052159\n",
       "4    0.276760  0.253000 -1.077947  1.059869\n",
       "..        ...       ...       ...       ...\n",
       "289  0.465459  1.050204  0.980480  0.215976\n",
       "290  0.310096  0.050237  0.934426  0.071359\n",
       "291 -1.132254 -0.934617 -1.364671 -0.658652\n",
       "292 -0.429644  0.527529  0.933621 -0.388419\n",
       "293 -0.413726  0.394771  0.209161  0.118192\n",
       "\n",
       "[294 rows x 4 columns]"
      ]
     },
     "execution_count": 49,
     "metadata": {},
     "output_type": "execute_result"
    }
   ],
   "source": [
    "df2=pd.DataFrame.from_records(factorscore)\n",
    "df2"
   ]
  },
  {
   "cell_type": "code",
   "execution_count": 53,
   "metadata": {
    "id": "Z6tYkEeaT6HR"
   },
   "outputs": [],
   "source": [
    "path=(\"/Users/vijithanayak/HRA/factorscore\")\n",
    "df2.to_csv(path)"
   ]
  },
  {
   "cell_type": "code",
   "execution_count": 51,
   "metadata": {
    "colab": {
     "base_uri": "https://localhost:8080/",
     "height": 206
    },
    "id": "LyingeOzT6HR",
    "outputId": "3d680539-8762-4ec5-8b65-fed375c6c189"
   },
   "outputs": [
    {
     "data": {
      "text/html": [
       "<div>\n",
       "<style scoped>\n",
       "    .dataframe tbody tr th:only-of-type {\n",
       "        vertical-align: middle;\n",
       "    }\n",
       "\n",
       "    .dataframe tbody tr th {\n",
       "        vertical-align: top;\n",
       "    }\n",
       "\n",
       "    .dataframe thead th {\n",
       "        text-align: right;\n",
       "    }\n",
       "</style>\n",
       "<table border=\"1\" class=\"dataframe\">\n",
       "  <thead>\n",
       "    <tr style=\"text-align: right;\">\n",
       "      <th></th>\n",
       "      <th>0</th>\n",
       "      <th>1</th>\n",
       "      <th>2</th>\n",
       "      <th>3</th>\n",
       "    </tr>\n",
       "  </thead>\n",
       "  <tbody>\n",
       "    <tr>\n",
       "      <th>0</th>\n",
       "      <td>-1.855669</td>\n",
       "      <td>-1.048584</td>\n",
       "      <td>-0.497243</td>\n",
       "      <td>-0.816069</td>\n",
       "    </tr>\n",
       "    <tr>\n",
       "      <th>1</th>\n",
       "      <td>-1.136423</td>\n",
       "      <td>0.308108</td>\n",
       "      <td>0.390217</td>\n",
       "      <td>0.557227</td>\n",
       "    </tr>\n",
       "    <tr>\n",
       "      <th>2</th>\n",
       "      <td>0.349096</td>\n",
       "      <td>0.249007</td>\n",
       "      <td>-0.618084</td>\n",
       "      <td>0.321496</td>\n",
       "    </tr>\n",
       "    <tr>\n",
       "      <th>3</th>\n",
       "      <td>0.826228</td>\n",
       "      <td>0.535804</td>\n",
       "      <td>0.237079</td>\n",
       "      <td>1.052159</td>\n",
       "    </tr>\n",
       "    <tr>\n",
       "      <th>4</th>\n",
       "      <td>0.276760</td>\n",
       "      <td>0.253000</td>\n",
       "      <td>-1.077947</td>\n",
       "      <td>1.059869</td>\n",
       "    </tr>\n",
       "  </tbody>\n",
       "</table>\n",
       "</div>"
      ],
      "text/plain": [
       "          0         1         2         3\n",
       "0 -1.855669 -1.048584 -0.497243 -0.816069\n",
       "1 -1.136423  0.308108  0.390217  0.557227\n",
       "2  0.349096  0.249007 -0.618084  0.321496\n",
       "3  0.826228  0.535804  0.237079  1.052159\n",
       "4  0.276760  0.253000 -1.077947  1.059869"
      ]
     },
     "execution_count": 51,
     "metadata": {},
     "output_type": "execute_result"
    }
   ],
   "source": [
    "df2.head()"
   ]
  },
  {
   "cell_type": "code",
   "execution_count": 39,
   "metadata": {
    "colab": {
     "base_uri": "https://localhost:8080/",
     "height": 1000
    },
    "id": "mwmnL8HET6HS",
    "outputId": "c065eee4-b217-4547-e3c4-5d7a27c7f742"
   },
   "outputs": [
    {
     "name": "stdout",
     "output_type": "stream",
     "text": [
      "Looking in indexes: https://pypi.org/simple, https://us-python.pkg.dev/colab-wheels/public/simple/\n",
      "Collecting pingouin\n",
      "  Downloading pingouin-0.5.2.tar.gz (185 kB)\n",
      "\u001b[K     |████████████████████████████████| 185 kB 2.1 MB/s \n",
      "\u001b[?25hRequirement already satisfied: numpy>=1.19 in /usr/local/lib/python3.7/dist-packages (from pingouin) (1.21.6)\n",
      "Requirement already satisfied: scipy>=1.7 in /usr/local/lib/python3.7/dist-packages (from pingouin) (1.7.3)\n",
      "Requirement already satisfied: pandas>=1.0 in /usr/local/lib/python3.7/dist-packages (from pingouin) (1.3.5)\n",
      "Requirement already satisfied: matplotlib>=3.0.2 in /usr/local/lib/python3.7/dist-packages (from pingouin) (3.2.2)\n",
      "Requirement already satisfied: seaborn>=0.11 in /usr/local/lib/python3.7/dist-packages (from pingouin) (0.11.2)\n",
      "Collecting statsmodels>=0.13\n",
      "  Downloading statsmodels-0.13.2-cp37-cp37m-manylinux_2_17_x86_64.manylinux2014_x86_64.whl (9.8 MB)\n",
      "\u001b[K     |████████████████████████████████| 9.8 MB 27.9 MB/s \n",
      "\u001b[?25hRequirement already satisfied: scikit-learn<1.1.0 in /usr/local/lib/python3.7/dist-packages (from pingouin) (1.0.2)\n",
      "Collecting pandas_flavor>=0.2.0\n",
      "  Downloading pandas_flavor-0.3.0-py3-none-any.whl (6.3 kB)\n",
      "Collecting outdated\n",
      "  Downloading outdated-0.2.1-py3-none-any.whl (7.5 kB)\n",
      "Requirement already satisfied: tabulate in /usr/local/lib/python3.7/dist-packages (from pingouin) (0.8.10)\n",
      "Requirement already satisfied: cycler>=0.10 in /usr/local/lib/python3.7/dist-packages (from matplotlib>=3.0.2->pingouin) (0.11.0)\n",
      "Requirement already satisfied: python-dateutil>=2.1 in /usr/local/lib/python3.7/dist-packages (from matplotlib>=3.0.2->pingouin) (2.8.2)\n",
      "Requirement already satisfied: kiwisolver>=1.0.1 in /usr/local/lib/python3.7/dist-packages (from matplotlib>=3.0.2->pingouin) (1.4.4)\n",
      "Requirement already satisfied: pyparsing!=2.0.4,!=2.1.2,!=2.1.6,>=2.0.1 in /usr/local/lib/python3.7/dist-packages (from matplotlib>=3.0.2->pingouin) (3.0.9)\n",
      "Requirement already satisfied: typing-extensions in /usr/local/lib/python3.7/dist-packages (from kiwisolver>=1.0.1->matplotlib>=3.0.2->pingouin) (4.1.1)\n",
      "Requirement already satisfied: pytz>=2017.3 in /usr/local/lib/python3.7/dist-packages (from pandas>=1.0->pingouin) (2022.2.1)\n",
      "Collecting pandas_flavor>=0.2.0\n",
      "  Downloading pandas_flavor-0.2.0-py2.py3-none-any.whl (6.6 kB)\n",
      "Requirement already satisfied: xarray in /usr/local/lib/python3.7/dist-packages (from pandas_flavor>=0.2.0->pingouin) (0.20.2)\n",
      "Requirement already satisfied: six>=1.5 in /usr/local/lib/python3.7/dist-packages (from python-dateutil>=2.1->matplotlib>=3.0.2->pingouin) (1.15.0)\n",
      "Requirement already satisfied: threadpoolctl>=2.0.0 in /usr/local/lib/python3.7/dist-packages (from scikit-learn<1.1.0->pingouin) (3.1.0)\n",
      "Requirement already satisfied: joblib>=0.11 in /usr/local/lib/python3.7/dist-packages (from scikit-learn<1.1.0->pingouin) (1.1.0)\n",
      "Requirement already satisfied: packaging>=21.3 in /usr/local/lib/python3.7/dist-packages (from statsmodels>=0.13->pingouin) (21.3)\n",
      "Requirement already satisfied: patsy>=0.5.2 in /usr/local/lib/python3.7/dist-packages (from statsmodels>=0.13->pingouin) (0.5.2)\n",
      "Collecting littleutils\n",
      "  Downloading littleutils-0.2.2.tar.gz (6.6 kB)\n",
      "Requirement already satisfied: requests in /usr/local/lib/python3.7/dist-packages (from outdated->pingouin) (2.23.0)\n",
      "Requirement already satisfied: urllib3!=1.25.0,!=1.25.1,<1.26,>=1.21.1 in /usr/local/lib/python3.7/dist-packages (from requests->outdated->pingouin) (1.24.3)\n",
      "Requirement already satisfied: chardet<4,>=3.0.2 in /usr/local/lib/python3.7/dist-packages (from requests->outdated->pingouin) (3.0.4)\n",
      "Requirement already satisfied: idna<3,>=2.5 in /usr/local/lib/python3.7/dist-packages (from requests->outdated->pingouin) (2.10)\n",
      "Requirement already satisfied: certifi>=2017.4.17 in /usr/local/lib/python3.7/dist-packages (from requests->outdated->pingouin) (2022.6.15)\n",
      "Requirement already satisfied: importlib-metadata in /usr/local/lib/python3.7/dist-packages (from xarray->pandas_flavor>=0.2.0->pingouin) (4.12.0)\n",
      "Requirement already satisfied: zipp>=0.5 in /usr/local/lib/python3.7/dist-packages (from importlib-metadata->xarray->pandas_flavor>=0.2.0->pingouin) (3.8.1)\n",
      "Building wheels for collected packages: pingouin, littleutils\n",
      "  Building wheel for pingouin (setup.py) ... \u001b[?25l\u001b[?25hdone\n",
      "  Created wheel for pingouin: filename=pingouin-0.5.2-py3-none-any.whl size=196206 sha256=d07c9d0a67ce83ce64253ab26c22cc5f894048f833ed33b27d45c1f78d4f65cf\n",
      "  Stored in directory: /root/.cache/pip/wheels/11/5a/63/a6d32fc26fa462c731f65480bfb98ff7bd39b8ebcb4bc6c2fe\n",
      "  Building wheel for littleutils (setup.py) ... \u001b[?25l\u001b[?25hdone\n",
      "  Created wheel for littleutils: filename=littleutils-0.2.2-py3-none-any.whl size=7048 sha256=214416dcfe531bcc7b675881a0de3997c868cd058c1249dc0240848973a72be5\n",
      "  Stored in directory: /root/.cache/pip/wheels/d6/64/cd/32819b511a488e4993f2fab909a95330289c3f4e0f6ef4676d\n",
      "Successfully built pingouin littleutils\n",
      "Installing collected packages: littleutils, statsmodels, pandas-flavor, outdated, pingouin\n",
      "  Attempting uninstall: statsmodels\n",
      "    Found existing installation: statsmodels 0.12.2\n",
      "    Uninstalling statsmodels-0.12.2:\n",
      "      Successfully uninstalled statsmodels-0.12.2\n",
      "Successfully installed littleutils-0.2.2 outdated-0.2.1 pandas-flavor-0.2.0 pingouin-0.5.2 statsmodels-0.13.2\n"
     ]
    },
    {
     "data": {
      "application/vnd.colab-display-data+json": {
       "pip_warning": {
        "packages": [
         "statsmodels"
        ]
       }
      }
     },
     "metadata": {},
     "output_type": "display_data"
    }
   ],
   "source": [
    "!pip install pingouin"
   ]
  },
  {
   "cell_type": "code",
   "execution_count": 40,
   "metadata": {
    "id": "6W6zK0joT6HS"
   },
   "outputs": [],
   "source": [
    "import pingouin as pn"
   ]
  },
  {
   "cell_type": "code",
   "execution_count": 41,
   "metadata": {
    "id": "WUXUxK33T6HS"
   },
   "outputs": [],
   "source": [
    "#Defining the factors\n",
    "JS = df[['JS1', 'JS2', 'JS3']]\n",
    "FS = df[['FS1', 'FS2', 'FS3']]\n",
    "LS = df[['LS1', 'LS2', 'LS3', 'LS4','LS5']]\n",
    "WFB = df[['WFB1', 'WFB2', 'WFB3', 'WFB4', 'WFB5']]"
   ]
  },
  {
   "cell_type": "code",
   "execution_count": 42,
   "metadata": {
    "id": "9z9nvSc3T6HS"
   },
   "outputs": [],
   "source": [
    "#Get cronbach alpha\n",
    "JS_alpha = pn.cronbach_alpha(JS)\n",
    "FS_alpha = pn.cronbach_alpha(FS)\n",
    "LS_alpha = pn.cronbach_alpha(LS)\n",
    "WFB_alpha = pn.cronbach_alpha(WFB)"
   ]
  },
  {
   "cell_type": "code",
   "execution_count": 43,
   "metadata": {
    "colab": {
     "base_uri": "https://localhost:8080/"
    },
    "id": "YuXJhlQFT6HS",
    "outputId": "2d634225-72d3-4fb0-bae5-f8569982f594"
   },
   "outputs": [
    {
     "name": "stdout",
     "output_type": "stream",
     "text": [
      "(0.8758467432350348, array([0.849, 0.899])) (0.9645440145272896, array([0.957, 0.971])) (0.9031274811956294, array([0.884, 0.92 ])) (0.9575117942133162, array([0.949, 0.965]))\n"
     ]
    }
   ],
   "source": [
    "print(JS_alpha,FS_alpha,LS_alpha,WFB_alpha)"
   ]
  }
 ],
 "metadata": {
  "colab": {
   "collapsed_sections": [],
   "provenance": []
  },
  "kernelspec": {
   "display_name": "Python 3 (ipykernel)",
   "language": "python",
   "name": "python3"
  },
  "language_info": {
   "codemirror_mode": {
    "name": "ipython",
    "version": 3
   },
   "file_extension": ".py",
   "mimetype": "text/x-python",
   "name": "python",
   "nbconvert_exporter": "python",
   "pygments_lexer": "ipython3",
   "version": "3.9.12"
  }
 },
 "nbformat": 4,
 "nbformat_minor": 1
}
